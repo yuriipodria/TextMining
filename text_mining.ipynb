{
 "cells": [
  {
   "cell_type": "markdown",
   "id": "078bdfa4",
   "metadata": {},
   "source": [
    "### Import packages"
   ]
  },
  {
   "cell_type": "code",
   "execution_count": null,
   "id": "c0156a21",
   "metadata": {},
   "outputs": [],
   "source": [
    "import json\n",
    "import string\n",
    "from nltk.stem import PorterStemmer\n",
    "from nltk.tokenize import word_tokenize\n",
    "from nltk.corpus import PlaintextCorpusReader, stopwords"
   ]
  },
  {
   "cell_type": "markdown",
   "id": "9f7aa72f",
   "metadata": {},
   "source": [
    "### Create documents corpus"
   ]
  },
  {
   "cell_type": "code",
   "execution_count": null,
   "id": "7021a904",
   "metadata": {},
   "outputs": [],
   "source": [
    "corpus_dir = \"./Literature-original\"\n",
    "corpus = PlaintextCorpusReader(corpus_dir, \".*\\.txt\")\n",
    "file_names = corpus.fileids()\n",
    "\n",
    "# file_names"
   ]
  },
  {
   "cell_type": "markdown",
   "id": "5d0d45c5",
   "metadata": {},
   "source": [
    "### Corpus document preprocessing"
   ]
  },
  {
   "cell_type": "code",
   "execution_count": null,
   "id": "16404797",
   "metadata": {},
   "outputs": [],
   "source": [
    "documents = {}\n",
    "\n",
    "for file_name in file_names:\n",
    "    documents[file_name] = corpus.raw(file_name)\n",
    "\n",
    "# print(json.dumps(documents, indent=4, ensure_ascii=False))"
   ]
  },
  {
   "cell_type": "code",
   "execution_count": null,
   "id": "d17b8165",
   "metadata": {},
   "outputs": [],
   "source": [
    "ps = PorterStemmer()"
   ]
  },
  {
   "cell_type": "code",
   "execution_count": null,
   "id": "febb0fbd",
   "metadata": {},
   "outputs": [],
   "source": [
    "for file_name in documents:\n",
    "    documents[file_name] = documents[file_name].lower()\n",
    "    documents[file_name] = \"\".join([char for char in documents[file_name] if char not in string.punctuation])\n",
    "    documents[file_name] = \"\".join([char for char in documents[file_name] if not char.isdigit()])\n",
    "    documents[file_name] = \" \".join([ps.stem(word) for word in word_tokenize(documents[file_name])])\n",
    "    documents[file_name] = \" \".join([word for word in word_tokenize(documents[file_name]) if word not in list(stopwords.words('english'))])\n",
    "\n",
    "# print(json.dumps(documents, indent=4, ensure_ascii=False))"
   ]
  },
  {
   "cell_type": "code",
   "execution_count": null,
   "id": "8422dd30",
   "metadata": {},
   "outputs": [],
   "source": []
  }
 ],
 "metadata": {
  "kernelspec": {
   "display_name": ".venv",
   "language": "python",
   "name": "python3"
  },
  "language_info": {
   "codemirror_mode": {
    "name": "ipython",
    "version": 3
   },
   "file_extension": ".py",
   "mimetype": "text/x-python",
   "name": "python",
   "nbconvert_exporter": "python",
   "pygments_lexer": "ipython3",
   "version": "3.11.4"
  }
 },
 "nbformat": 4,
 "nbformat_minor": 5
}
